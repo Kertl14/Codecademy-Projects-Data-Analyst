{
 "cells": [
  {
   "cell_type": "markdown",
   "id": "8908e534",
   "metadata": {},
   "source": [
    "## Data Source\n",
    "\n",
    "For this project, I'll be using a dataset provided by codecademy.  This is being imported manually in the code block below."
   ]
  },
  {
   "cell_type": "code",
   "execution_count": 1,
   "id": "1776a132",
   "metadata": {},
   "outputs": [],
   "source": [
    "# names of hurricanes\n",
    "names = ['Cuba I', 'San Felipe II Okeechobee', 'Bahamas', 'Cuba II', 'CubaBrownsville', 'Tampico', 'Labor Day', 'New England', 'Carol', 'Janet', 'Carla', 'Hattie', 'Beulah', 'Camille', 'Edith', 'Anita', 'David', 'Allen', 'Gilbert', 'Hugo', 'Andrew', 'Mitch', 'Isabel', 'Ivan', 'Emily', 'Katrina', 'Rita', 'Wilma', 'Dean', 'Felix', 'Matthew', 'Irma', 'Maria', 'Michael']\n",
    "\n",
    "# months of hurricanes\n",
    "months = ['October', 'September', 'September', 'November', 'August', 'September', 'September', 'September', 'September', 'September', 'September', 'October', 'September', 'August', 'September', 'September', 'August', 'August', 'September', 'September', 'August', 'October', 'September', 'September', 'July', 'August', 'September', 'October', 'August', 'September', 'October', 'September', 'September', 'October']\n",
    "\n",
    "# years of hurricanes\n",
    "years = [1924, 1928, 1932, 1932, 1933, 1933, 1935, 1938, 1953, 1955, 1961, 1961, 1967, 1969, 1971, 1977, 1979, 1980, 1988, 1989, 1992, 1998, 2003, 2004, 2005, 2005, 2005, 2005, 2007, 2007, 2016, 2017, 2017, 2018]\n",
    "\n",
    "# maximum sustained winds (mph) of hurricanes\n",
    "max_sustained_winds = [165, 160, 160, 175, 160, 160, 185, 160, 160, 175, 175, 160, 160, 175, 160, 175, 175, 190, 185, 160, 175, 180, 165, 165, 160, 175, 180, 185, 175, 175, 165, 180, 175, 160]\n",
    "\n",
    "# areas affected by each hurricane\n",
    "areas_affected = [['Central America', 'Mexico', 'Cuba', 'Florida', 'The Bahamas'], ['Lesser Antilles', 'The Bahamas', 'United States East Coast', 'Atlantic Canada'], ['The Bahamas', 'Northeastern United States'], ['Lesser Antilles', 'Jamaica', 'Cayman Islands', 'Cuba', 'The Bahamas', 'Bermuda'], ['The Bahamas', 'Cuba', 'Florida', 'Texas', 'Tamaulipas'], ['Jamaica', 'Yucatn Peninsula'], ['The Bahamas', 'Florida', 'Georgia', 'The Carolinas', 'Virginia'], ['Southeastern United States', 'Northeastern United States', 'Southwestern Quebec'], ['Bermuda', 'New England', 'Atlantic Canada'], ['Lesser Antilles', 'Central America'], ['Texas', 'Louisiana', 'Midwestern United States'], ['Central America'], ['The Caribbean', 'Mexico', 'Texas'], ['Cuba', 'United States Gulf Coast'], ['The Caribbean', 'Central America', 'Mexico', 'United States Gulf Coast'], ['Mexico'], ['The Caribbean', 'United States East coast'], ['The Caribbean', 'Yucatn Peninsula', 'Mexico', 'South Texas'], ['Jamaica', 'Venezuela', 'Central America', 'Hispaniola', 'Mexico'], ['The Caribbean', 'United States East Coast'], ['The Bahamas', 'Florida', 'United States Gulf Coast'], ['Central America', 'Yucatn Peninsula', 'South Florida'], ['Greater Antilles', 'Bahamas', 'Eastern United States', 'Ontario'], ['The Caribbean', 'Venezuela', 'United States Gulf Coast'], ['Windward Islands', 'Jamaica', 'Mexico', 'Texas'], ['Bahamas', 'United States Gulf Coast'], ['Cuba', 'United States Gulf Coast'], ['Greater Antilles', 'Central America', 'Florida'], ['The Caribbean', 'Central America'], ['Nicaragua', 'Honduras'], ['Antilles', 'Venezuela', 'Colombia', 'United States East Coast', 'Atlantic Canada'], ['Cape Verde', 'The Caribbean', 'British Virgin Islands', 'U.S. Virgin Islands', 'Cuba', 'Florida'], ['Lesser Antilles', 'Virgin Islands', 'Puerto Rico', 'Dominican Republic', 'Turks and Caicos Islands'], ['Central America', 'United States Gulf Coast (especially Florida Panhandle)']]\n",
    "\n",
    "# damages (USD($)) of hurricanes\n",
    "damages = ['Damages not recorded', '100M', 'Damages not recorded', '40M', '27.9M', '5M', 'Damages not recorded', '306M', '2M', '65.8M', '326M', '60.3M', '208M', '1.42B', '25.4M', 'Damages not recorded', '1.54B', '1.24B', '7.1B', '10B', '26.5B', '6.2B', '5.37B', '23.3B', '1.01B', '125B', '12B', '29.4B', '1.76B', '720M', '15.1B', '64.8B', '91.6B', '25.1B']\n",
    "\n",
    "# deaths for each hurricane\n",
    "deaths = [90,4000,16,3103,179,184,408,682,5,1023,43,319,688,259,37,11,2068,269,318,107,65,19325,51,124,17,1836,125,87,45,133,603,138,3057,74]"
   ]
  },
  {
   "cell_type": "markdown",
   "id": "099d16de",
   "metadata": {},
   "source": [
    "Right now the damage values are stored as strings, the function below will convert these to float values that I can run analysis on."
   ]
  },
  {
   "cell_type": "code",
   "execution_count": 2,
   "id": "27ffa0b0",
   "metadata": {},
   "outputs": [],
   "source": [
    "#Updating damages list from string to float values\n",
    "\n",
    "def convert_to_float(a_list):\n",
    "    new_list = []\n",
    "    for string in a_list:\n",
    "        if string == 'Damages not recorded':\n",
    "            new_list.append(string)\n",
    "        elif 'M' in string:\n",
    "            num = float(string.replace('M', ''))\n",
    "            new_list.append(num * 1000000)\n",
    "        elif 'B' in string:\n",
    "            num = float(string.replace('B', ''))\n",
    "            new_list.append(num * 1000000000)\n",
    "    return new_list\n",
    "            \n",
    "damages_updated = convert_to_float(damages)\n",
    "          "
   ]
  },
  {
   "cell_type": "markdown",
   "id": "8536172e",
   "metadata": {},
   "source": [
    "Now that damages are respresented as number values, I'll contruct a single dictionary to easily keep track of all attributes of the 34 hurricanes represented by our various lists.  I'll be setting up one dictionary to track hurricanes by name, and one to track all hurricanes in a given year."
   ]
  },
  {
   "cell_type": "code",
   "execution_count": 3,
   "id": "83c4d3d8",
   "metadata": {
    "scrolled": true
   },
   "outputs": [],
   "source": [
    "def convert_lists_to_dict(names, months, years, max_sustained_winds, areas_affected, damages, deaths):\n",
    "    new_dict = {}\n",
    "    for index in range(len(names)):\n",
    "        new_dict[names[index]] = {'Name': names[index], 'Month': months[index], 'Year': years[index], 'Max Sustained Wind': max_sustained_winds[index], 'Areas Affected': areas_affected[index], 'Damage': damages[index], 'Deaths': deaths[index]}\n",
    "    return new_dict\n",
    "\n",
    "def convert_names_to_years(a_dict):\n",
    "    new_dict = {}\n",
    "    for key, value in a_dict.items():\n",
    "        if value['Year'] not in new_dict:\n",
    "            new_dict[value['Year']] = [value]\n",
    "        else:\n",
    "            new_dict[value['Year']].append(value)\n",
    "    return new_dict\n",
    "\n",
    "hurricane_data_names = convert_lists_to_dict(names, months, years, max_sustained_winds, areas_affected, damages_updated, deaths)\n",
    "\n",
    "hurricane_data_years = convert_names_to_years(hurricane_data_names)\n"
   ]
  },
  {
   "cell_type": "markdown",
   "id": "398f0906",
   "metadata": {},
   "source": [
    "Now that the dictionaries have been built, I can start analyzing the hurricane data.  I'll start by looking into which regions have been hit the most frequently by category 5 hurricanes to help inform preparation plans for future hurricanes."
   ]
  },
  {
   "cell_type": "code",
   "execution_count": 4,
   "id": "00563a78",
   "metadata": {
    "scrolled": true
   },
   "outputs": [
    {
     "name": "stdout",
     "output_type": "stream",
     "text": [
      "The most affected area was Central America which was hit by 9 hurricanes.\n"
     ]
    }
   ],
   "source": [
    "def frequency_by_area(a_dict_names):\n",
    "    areas = {}\n",
    "    for key, values in a_dict_names.items():\n",
    "        for area in values['Areas Affected']:\n",
    "            if area in areas:\n",
    "                areas[area] += 1\n",
    "            else:\n",
    "                areas[area] = 1\n",
    "    return areas\n",
    "\n",
    "def most_affected_area(a_dict):\n",
    "    max_num = 0\n",
    "    max_area = ''\n",
    "    for key, value in a_dict.items():\n",
    "        if value > max_num:\n",
    "            max_num = value\n",
    "            max_area = key\n",
    "    print('The most affected area was {} which was hit by {} hurricanes.'.format(max_area, max_num))\n",
    "        \n",
    "\n",
    "hurricane_frequency_by_area = frequency_by_area(hurricane_data_names)\n",
    "\n",
    "most_affected_area(hurricane_frequency_by_area)\n",
    "\n",
    "\n"
   ]
  },
  {
   "cell_type": "markdown",
   "id": "3adf13a9",
   "metadata": {},
   "source": [
    "I'm also interested in identifying the hurricane that caused the greatest number of deaths."
   ]
  },
  {
   "cell_type": "code",
   "execution_count": 5,
   "id": "ddeeaaaf",
   "metadata": {
    "scrolled": true
   },
   "outputs": [
    {
     "name": "stdout",
     "output_type": "stream",
     "text": [
      "The hurricane with the highest death count was Mitch which killed 19325 people.\n"
     ]
    }
   ],
   "source": [
    "def highest_death_count(a_dict):\n",
    "    max_death_count = 0\n",
    "    max_death_name = ''\n",
    "    for hurricane, values in hurricane_data_names.items():\n",
    "        if values['Deaths'] > max_death_count:\n",
    "            max_death_count = values['Deaths']\n",
    "            max_death_name = hurricane\n",
    "    print('The hurricane with the highest death count was {} which killed {} people.'.format(max_death_name, max_death_count))\n",
    "    \n",
    "highest_death_count(hurricane_data_names)"
   ]
  },
  {
   "cell_type": "markdown",
   "id": "2279e4b3",
   "metadata": {},
   "source": [
    "Now to categorize each hurricane into a mortality and damages scales related to the number of deaths caused by each hurricance.           \n",
    "                   "
   ]
  },
  {
   "cell_type": "code",
   "execution_count": 6,
   "id": "6f1571e4",
   "metadata": {},
   "outputs": [
    {
     "name": "stdout",
     "output_type": "stream",
     "text": [
      "[{'Name': 'Mitch', 'Month': 'October', 'Year': 1998, 'Max Sustained Wind': 180, 'Areas Affected': ['Central America', 'Yucatn Peninsula', 'South Florida'], 'Damage': 6200000000.0, 'Deaths': 19325}]\n"
     ]
    }
   ],
   "source": [
    "def create_mortality_scale(a_dict):\n",
    "    mortality_dict = {0: [], 1: [], 2: [], 3: [], 4: [], 5: []}\n",
    "    for key, values in a_dict.items():\n",
    "        if values['Deaths'] == 0:\n",
    "            mortality_dict[0].append(values)\n",
    "        elif values['Deaths'] <= 100:\n",
    "            mortality_dict[1].append(values)\n",
    "        elif values['Deaths'] <= 500:\n",
    "            mortality_dict[2].append(values)\n",
    "        elif values['Deaths'] <= 1000:\n",
    "            mortality_dict[3].append(values)\n",
    "        elif values['Deaths'] <= 10000:\n",
    "            mortality_dict[4].append(values)\n",
    "        else:\n",
    "            mortality_dict[5].append(values)\n",
    "    return mortality_dict\n",
    "\n",
    "hurricane_mortality_scale = create_mortality_scale(hurricane_data_names)\n",
    "\n",
    "print(hurricane_mortality_scale[5])"
   ]
  },
  {
   "cell_type": "code",
   "execution_count": 7,
   "id": "e428c270",
   "metadata": {},
   "outputs": [
    {
     "name": "stdout",
     "output_type": "stream",
     "text": [
      "The hurricane that caused the most damage was Katrina which caused $125000000000.0 worth of damage.\n"
     ]
    }
   ],
   "source": [
    "def highest_damage(a_dict):\n",
    "    max_damage = 0\n",
    "    max_damage_name = ''\n",
    "    for hurricane, values in hurricane_data_names.items():\n",
    "        if values['Damage'] == 'Damages not recorded':\n",
    "            continue\n",
    "        elif values['Damage'] > max_damage:\n",
    "            max_damage = values['Damage']\n",
    "            max_damage_name = hurricane\n",
    "    print('The hurricane that caused the most damage was {} which caused ${} worth of damage.'.format(max_damage_name, max_damage))\n",
    "    \n",
    "highest_damage(hurricane_data_names)"
   ]
  },
  {
   "cell_type": "code",
   "execution_count": 8,
   "id": "419b3fa8",
   "metadata": {},
   "outputs": [
    {
     "name": "stdout",
     "output_type": "stream",
     "text": [
      "[{'Name': 'Camille', 'Month': 'August', 'Year': 1969, 'Max Sustained Wind': 175, 'Areas Affected': ['Cuba', 'United States Gulf Coast'], 'Damage': 1420000000.0, 'Deaths': 259}, {'Name': 'David', 'Month': 'August', 'Year': 1979, 'Max Sustained Wind': 175, 'Areas Affected': ['The Caribbean', 'United States East coast'], 'Damage': 1540000000.0, 'Deaths': 2068}, {'Name': 'Allen', 'Month': 'August', 'Year': 1980, 'Max Sustained Wind': 190, 'Areas Affected': ['The Caribbean', 'Yucatn Peninsula', 'Mexico', 'South Texas'], 'Damage': 1240000000.0, 'Deaths': 269}, {'Name': 'Gilbert', 'Month': 'September', 'Year': 1988, 'Max Sustained Wind': 185, 'Areas Affected': ['Jamaica', 'Venezuela', 'Central America', 'Hispaniola', 'Mexico'], 'Damage': 7100000000.0, 'Deaths': 318}, {'Name': 'Hugo', 'Month': 'September', 'Year': 1989, 'Max Sustained Wind': 160, 'Areas Affected': ['The Caribbean', 'United States East Coast'], 'Damage': 10000000000.0, 'Deaths': 107}, {'Name': 'Mitch', 'Month': 'October', 'Year': 1998, 'Max Sustained Wind': 180, 'Areas Affected': ['Central America', 'Yucatn Peninsula', 'South Florida'], 'Damage': 6200000000.0, 'Deaths': 19325}, {'Name': 'Isabel', 'Month': 'September', 'Year': 2003, 'Max Sustained Wind': 165, 'Areas Affected': ['Greater Antilles', 'Bahamas', 'Eastern United States', 'Ontario'], 'Damage': 5370000000.0, 'Deaths': 51}, {'Name': 'Emily', 'Month': 'July', 'Year': 2005, 'Max Sustained Wind': 160, 'Areas Affected': ['Windward Islands', 'Jamaica', 'Mexico', 'Texas'], 'Damage': 1010000000.0, 'Deaths': 17}, {'Name': 'Dean', 'Month': 'August', 'Year': 2007, 'Max Sustained Wind': 175, 'Areas Affected': ['The Caribbean', 'Central America'], 'Damage': 1760000000.0, 'Deaths': 45}]\n"
     ]
    }
   ],
   "source": [
    "def create_damage_scale(a_dict):\n",
    "    damage_dict = {0: [], 1: [], 2: [], 3: [], 4: [], 5: []}\n",
    "    for key, values in a_dict.items():\n",
    "        if values['Damage'] == 0 or values['Damage'] == 'Damages not recorded':\n",
    "            damage_dict[0].append(values)\n",
    "        elif values['Damage'] <= 100000000:\n",
    "            damage_dict[1].append(values)\n",
    "        elif values['Damage'] <= 1000000000:\n",
    "            damage_dict[2].append(values)\n",
    "        elif values['Damage'] <= 10000000000:\n",
    "            damage_dict[3].append(values)\n",
    "        elif values['Damage'] <= 50000000000:\n",
    "            damage_dict[4].append(values)\n",
    "        else:\n",
    "            damage_dict[5].append(values)\n",
    "    return damage_dict\n",
    "\n",
    "hurricane_damage_scale = create_damage_scale(hurricane_data_names)\n",
    "\n",
    "print(hurricane_damage_scale[3])"
   ]
  }
 ],
 "metadata": {
  "kernelspec": {
   "display_name": "Python 3 (ipykernel)",
   "language": "python",
   "name": "python3"
  },
  "language_info": {
   "codemirror_mode": {
    "name": "ipython",
    "version": 3
   },
   "file_extension": ".py",
   "mimetype": "text/x-python",
   "name": "python",
   "nbconvert_exporter": "python",
   "pygments_lexer": "ipython3",
   "version": "3.9.5"
  }
 },
 "nbformat": 4,
 "nbformat_minor": 5
}

{
 "cells": [
  {
   "cell_type": "markdown",
   "metadata": {},
   "source": [
    "# U.S. Medical Insurance Costs"
   ]
  },
  {
   "cell_type": "markdown",
   "metadata": {},
   "source": [
    "Intro:"
   ]
  },
  {
   "cell_type": "markdown",
   "metadata": {},
   "source": [
    "## Step 1: Examine the starting Dataset\n",
    "\n",
    "For this project I'm using a dataset provided by codecademy.  As the first step I'll import the data using the csv library and do some initial exploration of the dataset."
   ]
  },
  {
   "cell_type": "code",
   "execution_count": 1,
   "metadata": {},
   "outputs": [],
   "source": [
    "import csv\n",
    "\n",
    "insurance_data = {}\n",
    "with open('insurance.csv') as insurance_raw:\n",
    "    insurance_dict = csv.DictReader(insurance_raw)\n",
    "    for sub_dict in insurance_dict:\n",
    "        for key, value in sub_dict.items():\n",
    "            if key in insurance_data:\n",
    "                insurance_data[key].append(value)\n",
    "            else:\n",
    "                insurance_data[key] = [value]\n",
    "                \n",
    "def explore_column(a_dict, key):\n",
    "    types = []\n",
    "    length = len(a_dict[key])\n",
    "    for i in a_dict[key]:\n",
    "        if type(i) in types:\n",
    "            continue\n",
    "        else:\n",
    "            types.append(type(i))\n",
    "    return 'The {} column has {} values made up of the following data types: {}'.format(key, length, types)\n",
    "    \n"
   ]
  },
  {
   "cell_type": "code",
   "execution_count": 2,
   "metadata": {},
   "outputs": [
    {
     "name": "stdout",
     "output_type": "stream",
     "text": [
      "The age column has 1338 values made up of the following data types: [<class 'str'>]\n",
      "The sex column has 1338 values made up of the following data types: [<class 'str'>]\n",
      "The bmi column has 1338 values made up of the following data types: [<class 'str'>]\n",
      "The children column has 1338 values made up of the following data types: [<class 'str'>]\n",
      "The smoker column has 1338 values made up of the following data types: [<class 'str'>]\n",
      "The region column has 1338 values made up of the following data types: [<class 'str'>]\n",
      "The charges column has 1338 values made up of the following data types: [<class 'str'>]\n"
     ]
    }
   ],
   "source": [
    "print(explore_column(insurance_data, 'age'))\n",
    "print(explore_column(insurance_data, 'sex'))\n",
    "print(explore_column(insurance_data, 'bmi'))\n",
    "print(explore_column(insurance_data, 'children'))\n",
    "print(explore_column(insurance_data, 'smoker'))\n",
    "print(explore_column(insurance_data, 'region'))\n",
    "print(explore_column(insurance_data, 'charges'))"
   ]
  },
  {
   "cell_type": "markdown",
   "metadata": {},
   "source": [
    "Now I've confirmed that the dataset has 1338 entires not including the header, and that all data is being tracked using string values.  In order to make it easier to run analysis I'm going to create a new dictionary that stores the age, bmi, children, and charges values as integers and floats."
   ]
  },
  {
   "cell_type": "code",
   "execution_count": 3,
   "metadata": {},
   "outputs": [],
   "source": [
    "insurance_data_clean = {}\n",
    "\n",
    "def append_column(new_dict, old_dict, key, desired_type):\n",
    "            if key not in new_dict:\n",
    "                new_dict[key] = []\n",
    "            for item in old_dict[key]:\n",
    "                new_dict[key].append(desired_type(item))\n",
    "            \n",
    "append_column(insurance_data_clean, insurance_data, 'age', int)\n",
    "append_column(insurance_data_clean, insurance_data, 'sex', str)\n",
    "append_column(insurance_data_clean, insurance_data, 'bmi', float)\n",
    "append_column(insurance_data_clean, insurance_data, 'children', int)\n",
    "append_column(insurance_data_clean, insurance_data, 'smoker', str)\n",
    "append_column(insurance_data_clean, insurance_data, 'region', str)\n",
    "append_column(insurance_data_clean, insurance_data, 'charges', float)\n",
    "        "
   ]
  },
  {
   "cell_type": "markdown",
   "metadata": {},
   "source": [
    "At this point I have a clean dataset and am ready to begin analysis.  Now that I have had a chance to explore the data, I'm going to find an equation that can best estimate insurance costs based on the data provided.  I'll be doing this using a combination of linear regression for the integer and float variables, and more simple arithmetic for the categorical string variables.  All variables will be compared to total charges."
   ]
  },
  {
   "cell_type": "markdown",
   "metadata": {},
   "source": [
    "## Step 2: Calculate relationship between charges and categorical string variables\n",
    "\n",
    "First up I am going to tackle sex, smoker, and region to better understand their impact on real-world healthcare costs."
   ]
  },
  {
   "cell_type": "code",
   "execution_count": 4,
   "metadata": {},
   "outputs": [],
   "source": [
    "def calculate_average_charge_conditional(key, condition):\n",
    "    total_charge = 0\n",
    "    a_list = []\n",
    "    index = 0\n",
    "    for i in insurance_data_clean[key]:\n",
    "        if i == condition:\n",
    "            a_list.append(i)\n",
    "            total_charge += insurance_data_clean['charges'][index]\n",
    "        index += 1\n",
    "    return total_charge / len(a_list)"
   ]
  },
  {
   "cell_type": "code",
   "execution_count": 5,
   "metadata": {},
   "outputs": [
    {
     "name": "stdout",
     "output_type": "stream",
     "text": [
      "13956.751177721886\n",
      "12569.57884383534\n",
      "\n",
      "1387.1723338865468\n"
     ]
    }
   ],
   "source": [
    "print(calculate_average_charge_conditional('sex', 'male'))\n",
    "print(calculate_average_charge_conditional('sex', 'female'))\n",
    "print()\n",
    "print(calculate_average_charge_conditional('sex', 'male') - calculate_average_charge_conditional('sex', 'female'))"
   ]
  },
  {
   "cell_type": "markdown",
   "metadata": {},
   "source": [
    "According to the analysis above, the first piece of our healthcare cost equation is ```'sex' * 1387.17``` where sex is equal to 1 for male and 0 for female."
   ]
  },
  {
   "cell_type": "code",
   "execution_count": 6,
   "metadata": {},
   "outputs": [
    {
     "name": "stdout",
     "output_type": "stream",
     "text": [
      "32050.23183153285\n",
      "8434.268297856199\n",
      "\n",
      "23615.96353367665\n"
     ]
    }
   ],
   "source": [
    "print(calculate_average_charge_conditional('smoker', 'yes'))\n",
    "print(calculate_average_charge_conditional('smoker', 'no'))\n",
    "print()\n",
    "print(calculate_average_charge_conditional('smoker', 'yes') - calculate_average_charge_conditional('smoker', 'no'))"
   ]
  },
  {
   "cell_type": "markdown",
   "metadata": {},
   "source": [
    "According to the analysis above, the second piece of our healthcare cost equation shows that smokers pay significantly more on average than non-smokers.  At this point our equation looks like this: ``` 'sex' * 1387.17 + 'smoker' * 23615.96 ``` where smokers are '1' and non-smokers are 0."
   ]
  },
  {
   "cell_type": "code",
   "execution_count": 7,
   "metadata": {},
   "outputs": [
    {
     "name": "stdout",
     "output_type": "stream",
     "text": [
      "['southwest', 'southeast', 'northwest', 'northeast']\n"
     ]
    }
   ],
   "source": [
    "region_values = []\n",
    "for region in insurance_data_clean['region']:\n",
    "    if region not in region_values:\n",
    "        region_values.append(region)\n",
    "        \n",
    "print(region_values)"
   ]
  },
  {
   "cell_type": "code",
   "execution_count": 8,
   "metadata": {},
   "outputs": [
    {
     "name": "stdout",
     "output_type": "stream",
     "text": [
      "12346.93737729231\n",
      "14735.411437609895\n",
      "12417.575373969228\n",
      "13406.3845163858\n"
     ]
    }
   ],
   "source": [
    "print(calculate_average_charge_conditional('region', 'southwest'))\n",
    "print(calculate_average_charge_conditional('region', 'southeast'))\n",
    "print(calculate_average_charge_conditional('region', 'northwest'))\n",
    "print(calculate_average_charge_conditional('region', 'northeast'))"
   ]
  },
  {
   "cell_type": "code",
   "execution_count": 9,
   "metadata": {},
   "outputs": [],
   "source": [
    "region_modifier_key = {\n",
    "    'southwest': 0,\n",
    "    'southeast': 2388.47,\n",
    "    'northwest': 70.64,\n",
    "    'northeast': 1059.45\n",
    "}\n",
    "\n",
    "sex_key = {\n",
    "    'male': 1,\n",
    "    'female': 0\n",
    "}\n",
    "\n",
    "smoker_key = {\n",
    "    'yes': 1,\n",
    "    'no': 0\n",
    "}"
   ]
  },
  {
   "cell_type": "markdown",
   "metadata": {},
   "source": [
    "Region is a bit more tricky as there are four possible values, but the regional cost differences can be accounted for using the translation above.  The east coast appears to have consistently higher healthcare costs, with the southeast being especially expensive.  ```'sex' * 1387.17 + 'smoker' * 23615.96 + region_modifier```"
   ]
  },
  {
   "cell_type": "markdown",
   "metadata": {},
   "source": [
    "## Step 3: Linear regression for float and int values\n",
    "\n",
    "Next up will be the three int/float values that contribute to the ultimate real-world healthcare cost."
   ]
  },
  {
   "cell_type": "code",
   "execution_count": 18,
   "metadata": {},
   "outputs": [],
   "source": [
    "age_points = list(zip(insurance_data_clean['age'], insurance_data_clean['charges']))\n",
    "bmi_points = list(zip(insurance_data_clean['bmi'], insurance_data_clean['charges']))\n",
    "children_points = list(zip(insurance_data_clean['children'], insurance_data_clean['charges']))\n",
    "\n",
    "def get_y(m, b, x):\n",
    "    return m*x + b\n",
    "\n",
    "possible_ms_age = [m*.1 for m in range(2500, 2800)]\n",
    "possible_bs_age = [b*.1 for b in range(-32500, -32000)]\n",
    "possible_ms_bmi = [m*.1 for m in range(1200, 1400)]\n",
    "possible_bs_bmi = [b*.1 for b in range(54100, 54200)]\n",
    "possible_ms_children = [m*10 for m in range(100,300)]\n",
    "possible_bs_children = [b*10 for b in range(800, 1000)]\n",
    "\n",
    "def calculate_error(m, b, point):\n",
    "    x_point = point[0]\n",
    "    y_point = point[1]\n",
    "    y_value = get_y(m, b, x_point)\n",
    "    return abs(y_value - y_point)\n",
    "\n",
    "def calculate_all_error(m, b, points):\n",
    "    total_error = 0\n",
    "    for point in points:\n",
    "        total_error += calculate_error(m, b, point)\n",
    "    return total_error\n",
    "\n",
    "def lin_reg(m_list, b_list, datapoints):\n",
    "    smallest_error = float('inf')\n",
    "    best_m = 0\n",
    "    best_b = 0\n",
    "    for m in m_list:\n",
    "        for b in b_list:\n",
    "            if calculate_all_error(m, b, datapoints) < smallest_error:\n",
    "                smallest_error = calculate_all_error(m, b, datapoints)\n",
    "                best_m = m\n",
    "                best_b = b\n",
    "    return print('The smallest possible error is {}, with the best m value as {} and best b value as {}.'.format(smallest_error, best_m, best_b))\n",
    "            "
   ]
  },
  {
   "cell_type": "code",
   "execution_count": 11,
   "metadata": {},
   "outputs": [
    {
     "name": "stdout",
     "output_type": "stream",
     "text": [
      "The smallest possible error is 8975649.727358997, with the best m value as 269.5 and best b value as -3216.6000000000004.\n"
     ]
    }
   ],
   "source": [
    "lin_reg(possible_ms_age, possible_bs_age, age_points)"
   ]
  },
  {
   "cell_type": "markdown",
   "metadata": {},
   "source": [
    "new equation ```'sex' * 1387.17 + 'smoker' * 23615.96 + region_modifier + age*269.5 - 3216.6```"
   ]
  },
  {
   "cell_type": "code",
   "execution_count": 19,
   "metadata": {
    "scrolled": false
   },
   "outputs": [
    {
     "name": "stdout",
     "output_type": "stream",
     "text": [
      "The smallest possible error is 11133900.765520982, with the best m value as 129.70000000000002 and best b value as 5419.900000000001.\n"
     ]
    }
   ],
   "source": [
    "lin_reg(possible_ms_bmi, possible_bs_bmi, bmi_points)"
   ]
  },
  {
   "cell_type": "markdown",
   "metadata": {},
   "source": [
    "new equation ```'sex' * 1387.17 + 'smoker' * 23615.96 + region_modifier + age*269.5 + bmi*130 + 2194.5```"
   ]
  },
  {
   "cell_type": "code",
   "execution_count": 17,
   "metadata": {
    "scrolled": false
   },
   "outputs": [
    {
     "name": "stdout",
     "output_type": "stream",
     "text": [
      "The smallest possible error is 11239562.083321003, with the best m value as 1000 and best b value as 8110.\n"
     ]
    }
   ],
   "source": [
    "lin_reg(possible_ms_children, possible_bs_children, children_points)"
   ]
  }
 ],
 "metadata": {
  "kernelspec": {
   "display_name": "Python 3 (ipykernel)",
   "language": "python",
   "name": "python3"
  },
  "language_info": {
   "codemirror_mode": {
    "name": "ipython",
    "version": 3
   },
   "file_extension": ".py",
   "mimetype": "text/x-python",
   "name": "python",
   "nbconvert_exporter": "python",
   "pygments_lexer": "ipython3",
   "version": "3.9.7"
  }
 },
 "nbformat": 4,
 "nbformat_minor": 4
}
